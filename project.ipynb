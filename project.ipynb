{
 "cells": [
  {
   "cell_type": "markdown",
   "id": "0f1c223c",
   "metadata": {},
   "source": [
    "#### Importing libraries"
   ]
  },
  {
   "cell_type": "code",
   "execution_count": 1,
   "id": "40b71b03",
   "metadata": {},
   "outputs": [],
   "source": [
    "import matplotlib.pyplot as plt\n",
    "import matplotlib.image as mpimg\n",
    "import numpy as np\n",
    "import cv2\n",
    "import glob\n",
    "import os\n",
    "from moviepy.editor import VideoFileClip\n",
    "%matplotlib inline"
   ]
  },
  {
   "cell_type": "markdown",
   "id": "dc23e972",
   "metadata": {},
   "source": [
    "#### 1. Camera Calibration(undistorting)"
   ]
  },
  {
   "cell_type": "code",
   "execution_count": 5,
   "id": "50c6c473",
   "metadata": {},
   "outputs": [],
   "source": [
    "def distortion_factors():\n",
    "    # Prepare object points\n",
    "    # From the provided calibration images, 9*6 corners are identified \n",
    "    nx = 9\n",
    "    ny = 6\n",
    "    objpoints = []\n",
    "    imgpoints = []\n",
    "    # Object points are real world points, here a 3D coordinates matrix is generated\n",
    "    # z coordinates are 0 and x, y are equidistant as it is known that the chessboard is made of identical squares\n",
    "    objp = np.zeros((6*9,3), np.float32)\n",
    "    objp[:,:2] = np.mgrid[0:9,0:6].T.reshape(-1,2)\n",
    "  \n",
    "    # Make a list of calibration images\n",
    "    os.listdir(\"camera_cal/\")\n",
    "    cal_img_list = os.listdir(\"camera_cal/\")  \n",
    "    \n",
    "    # Imagepoints are the coresspondant object points with their coordinates in the distorted image\n",
    "    # They are found in the image using the Open CV 'findChessboardCorners' function\n",
    "    for image_name in cal_img_list:\n",
    "        import_from = 'camera_cal/' + image_name\n",
    "        img = cv2.imread(import_from)\n",
    "        # Convert to grayscale\n",
    "        gray = cv2.cvtColor(img, cv2.COLOR_BGR2GRAY)\n",
    "        # Find the chessboard corners\n",
    "        ret, corners = cv2.findChessboardCorners(gray, (nx, ny), None)\n",
    "        # If found, draw corners\n",
    "        if ret == True:\n",
    "            # Draw and display the corners\n",
    "            #cv2.drawChessboardCorners(img, (nx, ny), corners, ret)\n",
    "            imgpoints.append(corners)\n",
    "            objpoints.append(objp)\n",
    "    ret, mtx, dist, rvecs, tvecs = cv2.calibrateCamera(objpoints, imgpoints, gray.shape[::-1], None, None)\n",
    "\n",
    "            \n",
    "    return mtx, dist "
   ]
  },
  {
   "cell_type": "markdown",
   "id": "ef7528b6",
   "metadata": {},
   "source": [
    "#### 3. Perspective Transform"
   ]
  },
  {
   "cell_type": "code",
   "execution_count": 6,
   "id": "0c8ef6c5",
   "metadata": {},
   "outputs": [],
   "source": [
    "def warp(img):\n",
    "    undist = cv2.undistort(img, mtx, dist, None, mtx)\n",
    "    img_size = (img.shape[1], img.shape[0])\n",
    "    offset = 300\n",
    "    \n",
    "    # Source points taken from images with straight lane lines, these are to become parallel after the warp transform\n",
    "    src = np.float32([\n",
    "        (190, 720), # bottom-left corner\n",
    "        (596, 447), # top-left corner\n",
    "        (685, 447), # top-right corner\n",
    "        (1125, 720) # bottom-right corner\n",
    "    ])\n",
    "    # Destination points are to be parallel, taken into account the image size\n",
    "    dst = np.float32([\n",
    "        [offset, img_size[1]],             # bottom-left corner\n",
    "        [offset, 0],                       # top-left corner\n",
    "        [img_size[0]-offset, 0],           # top-right corner\n",
    "        [img_size[0]-offset, img_size[1]]  # bottom-right corner\n",
    "    ])\n",
    "    # Calculate the transformation matrix and it's inverse transformation\n",
    "    M = cv2.getPerspectiveTransform(src, dst)\n",
    "    global M_inv\n",
    "    M_inv = cv2.getPerspectiveTransform(dst, src)\n",
    "    warped = cv2.warpPerspective(undist, M, img_size)\n",
    "   \n",
    "    return warped"
   ]
  },
  {
   "cell_type": "markdown",
   "id": "912efed6",
   "metadata": {},
   "source": [
    "#### 4. Binary Threshold"
   ]
  },
  {
   "cell_type": "code",
   "execution_count": 7,
   "id": "e0bc1673",
   "metadata": {},
   "outputs": [],
   "source": [
    "def binary_thresholded(img):\n",
    "    # Transform image to gray scale\n",
    "    gray_img =cv2.cvtColor(img, cv2.COLOR_BGR2GRAY)\n",
    "    # Apply sobel (derivative) in x direction, this is usefull to detect lines that tend to be vertical\n",
    "    sobelx = cv2.Sobel(gray_img, cv2.CV_64F, 1, 0)\n",
    "    abs_sobelx = np.absolute(sobelx)\n",
    "    # Scale result to 0-255\n",
    "    scaled_sobel = np.uint8(255*abs_sobelx/np.max(abs_sobelx))\n",
    "    sx_binary = np.zeros_like(scaled_sobel)\n",
    "    # Keep only derivative values that are in the margin of interest\n",
    "    sx_binary[(scaled_sobel >= 30) & (scaled_sobel <= 255)] = 1\n",
    "\n",
    "    # Detect pixels that are white in the grayscale image\n",
    "    white_binary = np.zeros_like(gray_img)\n",
    "    white_binary[(gray_img > 200) & (gray_img <= 255)] = 1\n",
    "\n",
    "    # Convert image to HLS\n",
    "    hls = cv2.cvtColor(img, cv2.COLOR_BGR2HLS)\n",
    "    H = hls[:,:,0]\n",
    "    S = hls[:,:,2]\n",
    "    sat_binary = np.zeros_like(S)\n",
    "    # Detect pixels that have a high saturation value\n",
    "    sat_binary[(S > 90) & (S <= 255)] = 1\n",
    "\n",
    "    hue_binary =  np.zeros_like(H)\n",
    "    # Detect pixels that are yellow using the hue component\n",
    "    hue_binary[(H > 10) & (H <= 25)] = 1\n",
    "\n",
    "    # Combine all pixels detected above\n",
    "    binary_1 = cv2.bitwise_or(sx_binary, white_binary)\n",
    "    binary_2 = cv2.bitwise_or(hue_binary, sat_binary)\n",
    "    binary = cv2.bitwise_or(binary_1, binary_2)\n",
    "\n",
    "    return binary"
   ]
  },
  {
   "cell_type": "markdown",
   "id": "8e22b03b",
   "metadata": {},
   "source": [
    "#### Plotting binary thresholded video"
   ]
  },
  {
   "cell_type": "code",
   "execution_count": 8,
   "id": "765bac0d",
   "metadata": {},
   "outputs": [],
   "source": [
    "##################\n",
    "## FOR PLOTTING ##\n",
    "##################\n",
    "\n",
    "def stage_one_thresholding(img):\n",
    "    # Transform image to gray scale\n",
    "    gray_img =cv2.cvtColor(img, cv2.COLOR_BGR2GRAY)\n",
    "    # Apply sobel (derivative) in x direction, this is usefull to detect lines that tend to be vertical\n",
    "    sobelx = cv2.Sobel(gray_img, cv2.CV_64F, 1, 0)\n",
    "    abs_sobelx = np.absolute(sobelx)\n",
    "    # Scale result to 0-255\n",
    "    scaled_sobel = np.uint8(255*abs_sobelx/np.max(abs_sobelx))\n",
    "    sx_binary = np.zeros_like(scaled_sobel)\n",
    "    # Keep only derivative values that are in the margin of interest\n",
    "    sx_binary[(scaled_sobel >= 30) & (scaled_sobel <= 255)] = 1\n",
    "\n",
    "    # Detect pixels that are white in the grayscale image\n",
    "    white_binary = np.zeros_like(gray_img)\n",
    "    white_binary[(gray_img > 200) & (gray_img <= 255)] = 1\n",
    "\n",
    "    # Convert image to HLS\n",
    "    hls = cv2.cvtColor(img, cv2.COLOR_BGR2HLS)\n",
    "    H = hls[:,:,0]\n",
    "    S = hls[:,:,2]\n",
    "    sat_binary = np.zeros_like(S)\n",
    "    # Detect pixels that have a high saturation value\n",
    "    sat_binary[(S > 90) & (S <= 255)] = 1\n",
    "\n",
    "    hue_binary =  np.zeros_like(H)\n",
    "    # Detect pixels that are yellow using the hue component\n",
    "    hue_binary[(H > 10) & (H <= 25)] = 1\n",
    "\n",
    "    # Combine all pixels detected above\n",
    "    binary_1 = cv2.bitwise_or(sx_binary, white_binary)\n",
    "    binary_2 = cv2.bitwise_or(hue_binary, sat_binary)\n",
    "    binary = cv2.bitwise_or(binary_1, binary_2)\n",
    "    binary_for_video = np.dstack((binary, binary, binary))*255\n",
    "    \n",
    "    return binary_for_video"
   ]
  },
  {
   "cell_type": "code",
   "execution_count": null,
   "id": "3cfb0637",
   "metadata": {},
   "outputs": [],
   "source": []
  }
 ],
 "metadata": {
  "kernelspec": {
   "display_name": "Python 3",
   "language": "python",
   "name": "python3"
  },
  "language_info": {
   "codemirror_mode": {
    "name": "ipython",
    "version": 3
   },
   "file_extension": ".py",
   "mimetype": "text/x-python",
   "name": "python",
   "nbconvert_exporter": "python",
   "pygments_lexer": "ipython3",
   "version": "3.8.8"
  }
 },
 "nbformat": 4,
 "nbformat_minor": 5
}
